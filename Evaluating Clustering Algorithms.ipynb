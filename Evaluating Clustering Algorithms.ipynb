{
 "cells": [
  {
   "cell_type": "raw",
   "metadata": {},
   "source": [
    "Name: Tan Ngiap Chuan Alvin"
   ]
  },
  {
   "cell_type": "markdown",
   "metadata": {},
   "source": [
    "# Advanced Machine Learning - Practicum 2 - Evaluating Clustering Algorithms\n",
    "\n",
    "**Topics covered**: Performance measurements for un-supervised learning\n",
    "\n",
    "**Deliverables**:\n",
    "- Complete the tasks as detailed in this document.\n",
    "- You are required to implement two metrics calculation and compare the result with the one produced by scikit-learn.\n",
    "\n",
    "**Objectives**:  \n",
    "Get familiarized with clustering performance evaluation.\n",
    "\n",
    "---\n"
   ]
  },
  {
   "cell_type": "code",
   "execution_count": 1,
   "metadata": {},
   "outputs": [],
   "source": [
    "import numpy as np                                # for your implementation\n",
    "from sklearn.metrics import pairwise_distances    # pairwise_distances() or you could choose\n",
    "from scipy.spatial import distance                # cdist() to computer pairs of vectors\n",
    "from sklearn import metrics                       # for comparison\n",
    "from sklearn.cluster import KMeans                # for comparison\n",
    "from sklearn import datasets"
   ]
  },
  {
   "cell_type": "markdown",
   "metadata": {},
   "source": [
    "---\n",
    "\n",
    "## 2. Implement Silhouette Coefficient \n",
    "A good resource (with references) for clustering performance evaluation is scikit-learn's [documentation page](https://scikit-learn.org/stable/modules/clustering.html#clustering-performance-evaluation). It covers most of the methods. <br>\n",
    "In this practice, we're going to implement the method 2.3.10.5. Silhouette Coefficient from the resource when ground truth labels are not known.\n",
    "\n",
    "### 2.1 Obtain Clustering Result\n",
    "We're going to run KMeans on Iris data, both algorithm and data are provided by Scikit-learn."
   ]
  },
  {
   "cell_type": "code",
   "execution_count": 2,
   "metadata": {},
   "outputs": [
    {
     "data": {
      "text/plain": [
       "array([1, 1, 1, 1, 1, 1, 1, 1, 1, 1, 1, 1, 1, 1, 1, 1, 1, 1, 1, 1, 1, 1,\n",
       "       1, 1, 1, 1, 1, 1, 1, 1, 1, 1, 1, 1, 1, 1, 1, 1, 1, 1, 1, 1, 1, 1,\n",
       "       1, 1, 1, 1, 1, 1, 0, 0, 2, 0, 0, 0, 0, 0, 0, 0, 0, 0, 0, 0, 0, 0,\n",
       "       0, 0, 0, 0, 0, 0, 0, 0, 0, 0, 0, 2, 0, 0, 0, 0, 0, 0, 0, 0, 0, 0,\n",
       "       0, 0, 0, 0, 0, 0, 0, 0, 0, 0, 0, 0, 2, 0, 2, 2, 2, 2, 0, 2, 2, 2,\n",
       "       2, 2, 2, 0, 0, 2, 2, 2, 2, 0, 2, 0, 2, 0, 2, 2, 0, 0, 2, 2, 2, 2,\n",
       "       2, 0, 2, 2, 2, 2, 0, 2, 2, 2, 0, 2, 2, 2, 0, 2, 2, 0])"
      ]
     },
     "execution_count": 2,
     "metadata": {},
     "output_type": "execute_result"
    }
   ],
   "source": [
    "# Get clustering result from KMeans Alogorithm\n",
    "\n",
    "X, y = datasets.load_iris(return_X_y=True)\n",
    "kmeans_model = KMeans(n_clusters=3, random_state=1).fit(X)\n",
    "labels = kmeans_model.labels_\n",
    "labels"
   ]
  },
  {
   "cell_type": "code",
   "execution_count": 29,
   "metadata": {},
   "outputs": [
    {
     "data": {
      "text/plain": [
       "array([[5.1, 3.5, 1.4, 0.2],\n",
       "       [4.9, 3. , 1.4, 0.2]])"
      ]
     },
     "execution_count": 29,
     "metadata": {},
     "output_type": "execute_result"
    }
   ],
   "source": [
    "X[:2]"
   ]
  },
  {
   "cell_type": "markdown",
   "metadata": {},
   "source": [
    "### 2.2 Get  Silhouette Score from Scikit-learn "
   ]
  },
  {
   "cell_type": "code",
   "execution_count": 30,
   "metadata": {},
   "outputs": [
    {
     "data": {
      "text/plain": [
       "0.5528190123564091"
      ]
     },
     "execution_count": 30,
     "metadata": {},
     "output_type": "execute_result"
    }
   ],
   "source": [
    "metrics.silhouette_score(X, labels, metric='euclidean')"
   ]
  },
  {
   "cell_type": "markdown",
   "metadata": {},
   "source": [
    "### 2.3 Implement your own Silhouette Score\n",
    "\n",
    "We're using Iris data to valide the correctness of your code, While a toy data set as following could be used for debugging.\n",
    "\n",
    "| f1 | f2 | Prediction|\n",
    "|----|----|-----------|\n",
    "| 1  | 1  | 1  |\n",
    "| 2  | 2  | 1  |\n",
    "| 3  | 3  | 0  |\n",
    "| 4  | 4  | 0  |\n",
    "\n",
    "\n",
    "### 2.3.1 Get Mean Distance between one sample and a group of samples\n",
    " "
   ]
  },
  {
   "cell_type": "code",
   "execution_count": 67,
   "metadata": {},
   "outputs": [],
   "source": [
    "# Calculate the means distance between the given sample and a group of samples\n",
    "def get_mean_dist(X, sample_idx, group_idx):    \n",
    "    # parameter:  X               the data set\n",
    "    # parameter:  sample_idx      index of the given sample\n",
    "    # parameter:  group_idx       a list of indexes\n",
    "    # return:     the mean distances\n",
    "    # Your code goes here\n",
    "#     X_points = [X[i] for i in group_idx] #use group_idx to get corresponding X rows   \n",
    "    sample = X[sample_idx].reshape(4, 1)\n",
    "#     return np.mean(np.linalg.norm(np.array(X_points) - sample.T, axis=1))\n",
    "    return np.mean(pairwise_distances(X[group_idx], sample.T, metric='euclidean')) \n",
    "#     return np.mean(pairwise_distances(X_points, sample.T, metric='euclidean'))"
   ]
  },
  {
   "cell_type": "code",
   "execution_count": 68,
   "metadata": {},
   "outputs": [
    {
     "data": {
      "text/plain": [
       "0.49978732149092736"
      ]
     },
     "execution_count": 68,
     "metadata": {},
     "output_type": "execute_result"
    }
   ],
   "source": [
    "# Validate your code, should print 0.4997..\n",
    "get_mean_dist(X,0,range(50))"
   ]
  },
  {
   "cell_type": "markdown",
   "metadata": {},
   "source": [
    "### 2.3.2 Get `a` value\n",
    "**a**: The mean distance('Euclidean') between a sample and all **other** points in the same class. <br>\n",
    "Implement the calculation in the function *get_a(X,labels,sample_idx)*"
   ]
  },
  {
   "cell_type": "code",
   "execution_count": 69,
   "metadata": {},
   "outputs": [],
   "source": [
    "def get_a(X, labels, sample_idx):\n",
    "    # parameter:  X               the data set\n",
    "    # parameter:  labeles         clustering result\n",
    "    # parameter:  sample_idx      the given sample's index\n",
    "    # return:     a value         the mean distances between the given sample and all samples in its cluster    \n",
    "    # Your code goes here\n",
    "    \n",
    "    value = labels[sample_idx]        # get the value of the corresponding index (equivalent to sample_idx) in labels\n",
    "    temp = np.where(labels == value)  # get indices of values that equals to sample_idx's value  \n",
    "    group_idx = [i for i in temp[0]]  # convert from numpy array to a list\n",
    "    \n",
    "    if sample_idx in group_idx:\n",
    "        group_idx.remove(sample_idx)  # remove the sample from the group  \n",
    "    return get_mean_dist(X, sample_idx, group_idx)    "
   ]
  },
  {
   "cell_type": "code",
   "execution_count": 70,
   "metadata": {},
   "outputs": [
    {
     "data": {
      "text/plain": [
       "0.5099870627458443"
      ]
     },
     "execution_count": 70,
     "metadata": {},
     "output_type": "execute_result"
    }
   ],
   "source": [
    "# Validate your code, should print 0.5099..\n",
    "get_a(X, labels, 0)"
   ]
  },
  {
   "cell_type": "markdown",
   "metadata": {},
   "source": [
    "### 2.3.3 Get `b` value\n",
    "**b**: The mean distance between a sample and all other points in the next nearest cluster. <br>\n",
    "- determine the next nearest by calculating mean distance between the sample and clusters\n",
    "- Implement the calculation in the function *get_b(X,labels,sample_idx)*"
   ]
  },
  {
   "cell_type": "code",
   "execution_count": 71,
   "metadata": {},
   "outputs": [],
   "source": [
    "def get_b(X, labels, sample_idx):\n",
    "    \n",
    "    # parameter:  X               the data set\n",
    "    # parameter:  labeles         clustering result\n",
    "    # parameter:  sample_idx      the given sample's index\n",
    "    # return:     b value         the smallest distances between the given sample and all samples in other clusters\n",
    "    \n",
    "    # Your code goes here\n",
    "    val = labels[sample_idx]  # get the value of the corresponding index (equivalent to sample_idx) in labels\n",
    "    alist = np.unique(labels) # gather all the unique values in label set into alist\n",
    "    \n",
    "    if val in alist:          # check whether the value of sample_idx is present in alist\n",
    "        others = np.delete(alist, np.where(alist == val)) # if present, remove it from alist, remaining put in others  \n",
    "    \n",
    "    shortest = []\n",
    "    for i in others:          # loop thr list containing unique values in the label set (except that of the sample_idx)        \n",
    "        temp = np.where(labels == i)      # get indices of values that equals to sample_idx's value  \n",
    "        group_idx = [i for i in temp[0]]  # convert from numpy array to a list\n",
    "        if sample_idx in group_idx:\n",
    "            group_idx.remove(sample_idx)  # remove the sample from the group  \n",
    "        shortest.append(get_mean_dist(X, sample_idx, group_idx)) #append the iteration outcome to list shortest\n",
    "  \n",
    "    return min(shortest)"
   ]
  },
  {
   "cell_type": "code",
   "execution_count": 72,
   "metadata": {},
   "outputs": [
    {
     "data": {
      "text/plain": [
       "3.4682394501345906"
      ]
     },
     "execution_count": 72,
     "metadata": {},
     "output_type": "execute_result"
    }
   ],
   "source": [
    "# Validate your code, should print 3.46..\n",
    "get_b(X, labels, 0)"
   ]
  },
  {
   "cell_type": "markdown",
   "metadata": {},
   "source": [
    "### 2.3.3 Silhouette Score\n",
    "The Silhouette Coefficient s for a single sample is then given as:\n",
    "$$\n",
    "s=\\frac{b-a}{max(a,b)}\n",
    "$$\n",
    "The Silhouette Coefficient for a set of samples is given as the mean of the Silhouette Coefficient for each sample.<br>\n",
    "Implete the calculation in function *get_s* that return the Silhouette Coefficient for a set of samples."
   ]
  },
  {
   "cell_type": "code",
   "execution_count": 73,
   "metadata": {},
   "outputs": [],
   "source": [
    "def get_s(X, labels):\n",
    "    \n",
    "    # parameter:  X               the data set\n",
    "    # parameter:  labeles         clustering result\n",
    "    # return:     Silhouette Score\n",
    "    # Your code goes here\n",
    "    total = 0\n",
    "    for i in range(len(labels)):\n",
    "         total += ((get_b(X, labels, i) - get_a(X, labels, i)) / max([get_b(X, labels, i), get_a(X, labels, i)]))\n",
    "    return total / len(labels)"
   ]
  },
  {
   "cell_type": "code",
   "execution_count": 74,
   "metadata": {},
   "outputs": [
    {
     "name": "stdout",
     "output_type": "stream",
     "text": [
      "0.552819012356409\n"
     ]
    }
   ],
   "source": [
    "# Validate your code, should print 0.5528..\n",
    "print(get_s(X,labels))"
   ]
  },
  {
   "cell_type": "markdown",
   "metadata": {},
   "source": [
    "## 3 Summary\n",
    "\n",
    "The best Silhouette score is 1 and the worst value is -1. Values near 0 indicate overlapping clusters. Negative values generally indicate that a sample has been assigned to the wrong cluster, as a different cluster is more similar."
   ]
  },
  {
   "cell_type": "code",
   "execution_count": null,
   "metadata": {},
   "outputs": [],
   "source": []
  }
 ],
 "metadata": {
  "kernelspec": {
   "display_name": "Python 3",
   "language": "python",
   "name": "python3"
  },
  "language_info": {
   "codemirror_mode": {
    "name": "ipython",
    "version": 3
   },
   "file_extension": ".py",
   "mimetype": "text/x-python",
   "name": "python",
   "nbconvert_exporter": "python",
   "pygments_lexer": "ipython3",
   "version": "3.8.6"
  }
 },
 "nbformat": 4,
 "nbformat_minor": 5
}
